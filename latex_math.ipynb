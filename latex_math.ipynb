{
 "cells": [
  {
   "cell_type": "markdown",
   "metadata": {},
   "source": [
    "### $\\sqrt[2]{4}$ + $\\sum$ +$\\sum_{i=1}^{n}$ + $\\prod$ +$\\prod_{i=1}^{m}$ + $\\bigcup$ +$\\bigcup_{i=1}^{n}$ \n",
    "\n",
    "### $\\int$ + $\\int_{a}^{b}$ + $\\iint$ +$\\iint_{a}^{b}$ + $\\bigcap$ + $\\bigcap_{i=1}^{n}$\n",
    "\n",
    "\n",
    "### $\\sqrt{3}$ + $\\sqrt[3]{3}$  + $x^{3}$ + $3x$ + $x_{3}$  + $x_{i}^{j}$\n",
    "\n",
    "\n",
    "###  $\\frac{a}{b}$ + $\\lim_{1 \\to 3}$\n",
    "\n",
    "### $\\alpha$ + $\\beta$ + $\\gamma$ + $\\delta$ + $\\epsilon$ + $\\epsilon_{2}^{3}$\n",
    "\n",
    "### $\\eta$ + $\\theta$ + $\\alpha$ + $\\beta$ +$\\gamma$ + $\\beta$ + $\\delta$ +$\\epsilon$ +$\\eta$ +$\\theta$\n",
    "\n",
    "### $\\lambda$ + $\\mu$ + $\\nu$ +$\\rho$ \n",
    "\n",
    "### $\\pi$ + $\\sigma_{1}$  +$\\sigma_{i}$ + $\\phi$ + $\\rho$ + $\\phi$ +$\\psi$ + $\\psi_{1}$ + $\\omega$\n",
    "\n",
    "### $\\omega$  $$\\sum_{i=i}^{n}$$\n",
    "\n",
    "### $$\\Gamma(x) = \\frac{\\int_{\\alpha}^{\\beta}g(t)(x - t)^{2}}{\\phi(x)\\sum_{i=0}^{N-1}\\omega_{i}}$$"
   ]
  },
  {
   "cell_type": "code",
   "execution_count": null,
   "metadata": {
    "collapsed": true
   },
   "outputs": [],
   "source": []
  }
 ],
 "metadata": {
  "kernelspec": {
   "display_name": "Python 3",
   "language": "python",
   "name": "python3"
  },
  "language_info": {
   "codemirror_mode": {
    "name": "ipython",
    "version": 3
   },
   "file_extension": ".py",
   "mimetype": "text/x-python",
   "name": "python",
   "nbconvert_exporter": "python",
   "pygments_lexer": "ipython3",
   "version": "3.6.1"
  }
 },
 "nbformat": 4,
 "nbformat_minor": 2
}
